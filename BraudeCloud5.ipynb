{
  "nbformat": 4,
  "nbformat_minor": 0,
  "metadata": {
    "colab": {
      "provenance": [],
      "authorship_tag": "ABX9TyO5n24Pq+N9NiPCh5tJDOKC",
      "include_colab_link": true
    },
    "kernelspec": {
      "name": "python3",
      "display_name": "Python 3"
    },
    "language_info": {
      "name": "python"
    }
  },
  "cells": [
    {
      "cell_type": "markdown",
      "metadata": {
        "id": "view-in-github",
        "colab_type": "text"
      },
      "source": [
        "<a href=\"https://colab.research.google.com/github/WardZid/IntroToCloud/blob/main/BraudeCloud5.ipynb\" target=\"_parent\"><img src=\"https://colab.research.google.com/assets/colab-badge.svg\" alt=\"Open In Colab\"/></a>"
      ]
    },
    {
      "cell_type": "markdown",
      "source": [
        "Connect to Firebase Firestore"
      ],
      "metadata": {
        "id": "jrq-aesSXMH3"
      }
    },
    {
      "cell_type": "code",
      "source": [
        "!pip install firebase"
      ],
      "metadata": {
        "colab": {
          "base_uri": "https://localhost:8080/"
        },
        "id": "feNHghH-YoXW",
        "outputId": "3345ea85-a146-487a-fa23-a7a751cde112"
      },
      "execution_count": 4,
      "outputs": [
        {
          "output_type": "stream",
          "name": "stdout",
          "text": [
            "Collecting firebase\n",
            "  Downloading firebase-4.0.1-py3-none-any.whl (12 kB)\n",
            "Requirement already satisfied: requests in /usr/local/lib/python3.10/dist-packages (from firebase) (2.31.0)\n",
            "Requirement already satisfied: charset-normalizer<4,>=2 in /usr/local/lib/python3.10/dist-packages (from requests->firebase) (3.3.2)\n",
            "Requirement already satisfied: idna<4,>=2.5 in /usr/local/lib/python3.10/dist-packages (from requests->firebase) (3.6)\n",
            "Requirement already satisfied: urllib3<3,>=1.21.1 in /usr/local/lib/python3.10/dist-packages (from requests->firebase) (2.0.7)\n",
            "Requirement already satisfied: certifi>=2017.4.17 in /usr/local/lib/python3.10/dist-packages (from requests->firebase) (2024.2.2)\n",
            "Installing collected packages: firebase\n",
            "Successfully installed firebase-4.0.1\n"
          ]
        }
      ]
    },
    {
      "cell_type": "markdown",
      "source": [
        "תרגיל ביניים\n",
        "\n",
        "---\n",
        "\n"
      ],
      "metadata": {
        "id": "scI_hEPJnGSa"
      }
    },
    {
      "cell_type": "code",
      "source": [
        "from firebase import firebase\n",
        "fbConn = firebase.FirebaseApplication('https://cloud-02-11-2024-default-rtdb.europe-west1.firebasedatabase.app/',None)\n",
        "while True:\n",
        "  first_name = input(\"Enter First name: \")\n",
        "  last_name = input(\"Enter Last name: \")\n",
        "  braude_name = input(\"Enter Braude Email: \")\n",
        "  courses = []\n",
        "  while True:\n",
        "    course = input(\"Enter a Course name (Empty to stop): \")\n",
        "    if course == \"\":\n",
        "      break\n",
        "    courses.append(course)\n",
        "  favorite_software = input(\"Enter favorite software: \")\n",
        "  data_to_upload ={\n",
        "      'first_name': first_name,\n",
        "      'last_name': last_name,\n",
        "      'braude_name': braude_name,\n",
        "      'courses': courses,\n",
        "      'favorite_software': favorite_software\n",
        "  }\n",
        "  result = fbConn.post('students',data_to_upload)\n",
        "  print(result)\n",
        "  if input('Continue? (y/n)') == \"n\":\n",
        "    break\n"
      ],
      "metadata": {
        "colab": {
          "base_uri": "https://localhost:8080/"
        },
        "id": "ZkuF7G2khcdB",
        "outputId": "5ec91bf0-41c1-47b2-dd03-03a1e410db56"
      },
      "execution_count": 18,
      "outputs": [
        {
          "name": "stdout",
          "output_type": "stream",
          "text": [
            "Enter First name: Moayad\n",
            "Enter Last name: Hamza\n",
            "Enter Braude Email: moayad.hamza@e.braude.ac.il\n",
            "Enter a Course name (Empty to stop): Compiler Theory\n",
            "Enter a Course name (Empty to stop): Data Structures\n",
            "Enter a Course name (Empty to stop): \n",
            "Enter favorite software: Jubula\n",
            "{'name': '-NqMbXtFDTNfpxAR94gh'}\n",
            "Continue? (y/n)n\n"
          ]
        }
      ]
    },
    {
      "cell_type": "code",
      "source": [
        "import json\n",
        "print(json.dumps(fbConn.get('students',None),indent=4))"
      ],
      "metadata": {
        "colab": {
          "base_uri": "https://localhost:8080/"
        },
        "id": "5FtF9vs-mFFW",
        "outputId": "ce47ab50-e8bd-4073-b4a9-bfca76a9acf1"
      },
      "execution_count": 19,
      "outputs": [
        {
          "output_type": "stream",
          "name": "stdout",
          "text": [
            "{\n",
            "    \"-NqMZx_VwbUmvHhpJoZC\": {\n",
            "        \"braude_name\": \"ward.zidani@e.braude.ac.il\",\n",
            "        \"courses\": [\n",
            "            \"math\",\n",
            "            \"science\"\n",
            "        ],\n",
            "        \"favorite_software\": \"vs code\",\n",
            "        \"first_name\": \"Ward\",\n",
            "        \"last_name\": \"Zidani\"\n",
            "    },\n",
            "    \"-NqM_52cEbDMxsTciGS9\": {\n",
            "        \"braude_name\": \"jasmen.mura@e.braude.ac.il\",\n",
            "        \"courses\": [\n",
            "            \"cloud\",\n",
            "            \"web\"\n",
            "        ],\n",
            "        \"favorite_software\": \"chrome\",\n",
            "        \"first_name\": \"yasmen\",\n",
            "        \"last_name\": \"mura\"\n",
            "    },\n",
            "    \"-NqM_C9wVoqh0jQLhFPe\": {\n",
            "        \"braude_name\": \"rami.amasha@e.braude.ac.il\",\n",
            "        \"favorite_software\": \"colab\",\n",
            "        \"first_name\": \"rami\",\n",
            "        \"last_name\": \"amasha\"\n",
            "    },\n",
            "    \"-NqMbXtFDTNfpxAR94gh\": {\n",
            "        \"braude_name\": \"moayad.hamza@e.braude.ac.il\",\n",
            "        \"courses\": [\n",
            "            \"Compiler Theory\",\n",
            "            \"Data Structures\"\n",
            "        ],\n",
            "        \"favorite_software\": \"Jubula\",\n",
            "        \"first_name\": \"Moayad\",\n",
            "        \"last_name\": \"Hamza\"\n",
            "    }\n",
            "}\n"
          ]
        }
      ]
    }
  ]
}