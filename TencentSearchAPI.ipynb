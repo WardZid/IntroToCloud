{
  "nbformat": 4,
  "nbformat_minor": 0,
  "metadata": {
    "colab": {
      "provenance": [],
      "authorship_tag": "ABX9TyPfCB1XhfSe27nu/GhEBH2R",
      "include_colab_link": true
    },
    "kernelspec": {
      "name": "python3",
      "display_name": "Python 3"
    },
    "language_info": {
      "name": "python"
    }
  },
  "cells": [
    {
      "cell_type": "markdown",
      "metadata": {
        "id": "view-in-github",
        "colab_type": "text"
      },
      "source": [
        "<a href=\"https://colab.research.google.com/github/WardZid/IntroToCloud/blob/main/TencentSearchAPI.ipynb\" target=\"_parent\"><img src=\"https://colab.research.google.com/assets/colab-badge.svg\" alt=\"Open In Colab\"/></a>"
      ]
    },
    {
      "cell_type": "markdown",
      "source": [
        "Cloud Course Course\n",
        "---\n",
        "___\n",
        "Tencent API\n",
        "---\n",
        "___\n",
        "This notebook holds the function that will query and search throught the indexed the pages"
      ],
      "metadata": {
        "id": "o-ub27vuQ4wd"
      }
    },
    {
      "cell_type": "markdown",
      "source": [
        "Initialize Libraries and Firebase connection"
      ],
      "metadata": {
        "id": "1no_r4RXS2nu"
      }
    },
    {
      "cell_type": "code",
      "source": [
        "!pip install firebase\n",
        "\n",
        "#Prepare Firebase\n",
        "from firebase import firebase\n",
        "fbConn = firebase.FirebaseApplication('https://braudecloud-18-02-2024-default-rtdb.europe-west1.firebasedatabase.app/',None)\n"
      ],
      "metadata": {
        "id": "tUoBhkmNR8eR"
      },
      "execution_count": null,
      "outputs": []
    },
    {
      "cell_type": "code",
      "execution_count": 19,
      "metadata": {
        "id": "TgQNTFOtQy4E"
      },
      "outputs": [],
      "source": [
        "def get_indexed_pages(query):\n",
        "\n",
        "  #Get the data for the given query\n",
        "  indexed_pages = fbConn.get('/index/' + query, None)\n",
        "  hashed_titles_unsorted = list(indexed_pages.keys())\n",
        "  hashed_titles_sorted = sorted(hashed_titles_unsorted, key=lambda x: indexed_pages[x]['count'], reverse=True)\n",
        "  return hashed_titles_sorted\n",
        "\n",
        "def get_pages_info(hashed_urls):\n",
        "  links = []\n",
        "\n",
        "  # Iterate over each hashed URL\n",
        "  for hashed_url in hashed_urls:\n",
        "    if hashed_url is not None:\n",
        "    # Retrieve the URL from the pages node using the hashed URL\n",
        "      page_data = fbConn.get('/pages/' + hashed_url, None)\n",
        "\n",
        "      if page_data:\n",
        "        links.append(page_data)\n",
        "\n",
        "  if links:\n",
        "    return links\n",
        "  else:\n",
        "    return []\n"
      ]
    },
    {
      "cell_type": "code",
      "source": [
        "\n",
        "# Example usage\n",
        "# @title Default title text\n",
        "search_word_from_input = \"cloud\" # @param {type:\"string\"}\n",
        "\n",
        "hashed_pages = get_indexed_pages(search_word_from_input)\n",
        "\n",
        "links = get_pages_info(hashed_pages[:5])\n",
        "for link in links:\n",
        "    print(link)\n",
        ""
      ],
      "metadata": {
        "colab": {
          "base_uri": "https://localhost:8080/"
        },
        "id": "kMMfZFhNSuIP",
        "outputId": "35c339f7-0f90-43c7-d7b7-b195569ca386"
      },
      "execution_count": 22,
      "outputs": [
        {
          "output_type": "stream",
          "name": "stdout",
          "text": [
            "{'title': 'Media - Tencent 腾讯', 'url': 'https://www.tencent.com/en-us/media/news.html'}\n",
            "{'title': 'Media - Tencent 腾讯', 'url': 'https://www.tencent.com/en-us/media/news.html?type=financial'}\n",
            "{'title': 'Media - Tencent 腾讯', 'url': 'https://www.tencent.com/en-us/media/news.html?type=media'}\n",
            "{'title': 'Media - Tencent 腾讯', 'url': 'https://www.tencent.com/en-us/media/perspective.html'}\n",
            "{'title': 'Tencent Cloud and Serverless, Inc. join forces to create a next generation, serverless cloud - Tencent 腾讯', 'url': 'https://www.tencent.com/en-us/articles/2200923.html'}\n"
          ]
        }
      ]
    }
  ]
}