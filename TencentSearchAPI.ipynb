{
  "nbformat": 4,
  "nbformat_minor": 0,
  "metadata": {
    "colab": {
      "provenance": [],
      "authorship_tag": "ABX9TyMqXVoHf3Lebiv9DTBDORet",
      "include_colab_link": true
    },
    "kernelspec": {
      "name": "python3",
      "display_name": "Python 3"
    },
    "language_info": {
      "name": "python"
    }
  },
  "cells": [
    {
      "cell_type": "markdown",
      "metadata": {
        "id": "view-in-github",
        "colab_type": "text"
      },
      "source": [
        "<a href=\"https://colab.research.google.com/github/WardZid/IntroToCloud/blob/main/TencentSearchAPI.ipynb\" target=\"_parent\"><img src=\"https://colab.research.google.com/assets/colab-badge.svg\" alt=\"Open In Colab\"/></a>"
      ]
    },
    {
      "cell_type": "markdown",
      "source": [
        "Cloud Course Course\n",
        "---\n",
        "___\n",
        "Tencent API\n",
        "---\n",
        "___\n",
        "This notebook holds the function that will query and search throught the indexed the pages"
      ],
      "metadata": {
        "id": "o-ub27vuQ4wd"
      }
    },
    {
      "cell_type": "markdown",
      "source": [
        "Initialize Libraries and Firebase connection"
      ],
      "metadata": {
        "id": "1no_r4RXS2nu"
      }
    },
    {
      "cell_type": "code",
      "source": [
        "!pip install firebase\n",
        "\n",
        "#Prepare Firebase\n",
        "from firebase import firebase\n",
        "fbConn = firebase.FirebaseApplication('https://braudecloud-18-02-2024-default-rtdb.europe-west1.firebasedatabase.app/',None)\n"
      ],
      "metadata": {
        "id": "tUoBhkmNR8eR",
        "colab": {
          "base_uri": "https://localhost:8080/"
        },
        "outputId": "e75c93a7-74d5-4642-be5d-3d5318293e18"
      },
      "execution_count": null,
      "outputs": [
        {
          "output_type": "stream",
          "name": "stdout",
          "text": [
            "Requirement already satisfied: firebase in /usr/local/lib/python3.10/dist-packages (4.0.1)\n",
            "Requirement already satisfied: requests in /usr/local/lib/python3.10/dist-packages (from firebase) (2.31.0)\n",
            "Requirement already satisfied: charset-normalizer<4,>=2 in /usr/local/lib/python3.10/dist-packages (from requests->firebase) (3.3.2)\n",
            "Requirement already satisfied: idna<4,>=2.5 in /usr/local/lib/python3.10/dist-packages (from requests->firebase) (3.6)\n",
            "Requirement already satisfied: urllib3<3,>=1.21.1 in /usr/local/lib/python3.10/dist-packages (from requests->firebase) (2.0.7)\n",
            "Requirement already satisfied: certifi>=2017.4.17 in /usr/local/lib/python3.10/dist-packages (from requests->firebase) (2024.2.2)\n"
          ]
        }
      ]
    },
    {
      "cell_type": "code",
      "execution_count": null,
      "metadata": {
        "id": "TgQNTFOtQy4E"
      },
      "outputs": [],
      "source": [
        "def get_indexed_pages(query):\n",
        "\n",
        "  #Get the data for the given query\n",
        "  indexed_pages = fbConn.get('/index/' + query, None)\n",
        "  hashed_titles_unsorted = list(indexed_pages.keys())\n",
        "  hashed_titles_sorted = sorted(hashed_titles_unsorted, key=lambda x: indexed_pages[x]['count'], reverse=True)\n",
        "  return hashed_titles_sorted\n",
        "\n",
        "def get_pages_info(hashed_urls):\n",
        "  links = []\n",
        "\n",
        "  # Iterate over each hashed URL\n",
        "  for hashed_url in hashed_urls:\n",
        "    if hashed_url is not None:\n",
        "    # Retrieve the URL from the pages node using the hashed URL\n",
        "      page_data = fbConn.get('/pages/' + hashed_url, None)\n",
        "\n",
        "      if page_data:\n",
        "        links.append(page_data)\n",
        "\n",
        "  if links:\n",
        "    return links\n",
        "  else:\n",
        "    return []\n"
      ]
    },
    {
      "cell_type": "code",
      "source": [
        "\n",
        "# Example usage\n",
        "# @title Default title text\n",
        "search_word_from_input = \"cloud\" # @param {type:\"string\"}\n",
        "\n",
        "hashed_pages = get_indexed_pages(search_word_from_input)\n",
        "\n",
        "links = get_pages_info(hashed_pages[:5])\n",
        "for link in links:\n",
        "    print(link)\n"
      ],
      "metadata": {
        "colab": {
          "base_uri": "https://localhost:8080/",
          "height": 332
        },
        "id": "kMMfZFhNSuIP",
        "outputId": "0ab6c216-05a9-44ef-93a3-e38dd6226494"
      },
      "execution_count": null,
      "outputs": [
        {
          "output_type": "error",
          "ename": "AttributeError",
          "evalue": "'NoneType' object has no attribute 'keys'",
          "traceback": [
            "\u001b[0;31m---------------------------------------------------------------------------\u001b[0m",
            "\u001b[0;31mAttributeError\u001b[0m                            Traceback (most recent call last)",
            "\u001b[0;32m<ipython-input-12-82c0c165c90e>\u001b[0m in \u001b[0;36m<cell line: 5>\u001b[0;34m()\u001b[0m\n\u001b[1;32m      3\u001b[0m \u001b[0msearch_word_from_input\u001b[0m \u001b[0;34m=\u001b[0m \u001b[0;34m\"cloud\"\u001b[0m \u001b[0;31m# @param {type:\"string\"}\u001b[0m\u001b[0;34m\u001b[0m\u001b[0;34m\u001b[0m\u001b[0m\n\u001b[1;32m      4\u001b[0m \u001b[0;34m\u001b[0m\u001b[0m\n\u001b[0;32m----> 5\u001b[0;31m \u001b[0mhashed_pages\u001b[0m \u001b[0;34m=\u001b[0m \u001b[0mget_indexed_pages\u001b[0m\u001b[0;34m(\u001b[0m\u001b[0msearch_word_from_input\u001b[0m\u001b[0;34m)\u001b[0m\u001b[0;34m\u001b[0m\u001b[0;34m\u001b[0m\u001b[0m\n\u001b[0m\u001b[1;32m      6\u001b[0m \u001b[0;34m\u001b[0m\u001b[0m\n\u001b[1;32m      7\u001b[0m \u001b[0mlinks\u001b[0m \u001b[0;34m=\u001b[0m \u001b[0mget_pages_info\u001b[0m\u001b[0;34m(\u001b[0m\u001b[0mhashed_pages\u001b[0m\u001b[0;34m[\u001b[0m\u001b[0;34m:\u001b[0m\u001b[0;36m5\u001b[0m\u001b[0;34m]\u001b[0m\u001b[0;34m)\u001b[0m\u001b[0;34m\u001b[0m\u001b[0;34m\u001b[0m\u001b[0m\n",
            "\u001b[0;32m<ipython-input-11-db7b9d0587f2>\u001b[0m in \u001b[0;36mget_indexed_pages\u001b[0;34m(query)\u001b[0m\n\u001b[1;32m      3\u001b[0m   \u001b[0;31m#Get the data for the given query\u001b[0m\u001b[0;34m\u001b[0m\u001b[0;34m\u001b[0m\u001b[0m\n\u001b[1;32m      4\u001b[0m   \u001b[0mindexed_pages\u001b[0m \u001b[0;34m=\u001b[0m \u001b[0mfbConn\u001b[0m\u001b[0;34m.\u001b[0m\u001b[0mget\u001b[0m\u001b[0;34m(\u001b[0m\u001b[0;34m'/index/'\u001b[0m \u001b[0;34m+\u001b[0m \u001b[0mquery\u001b[0m\u001b[0;34m,\u001b[0m \u001b[0;32mNone\u001b[0m\u001b[0;34m)\u001b[0m\u001b[0;34m\u001b[0m\u001b[0;34m\u001b[0m\u001b[0m\n\u001b[0;32m----> 5\u001b[0;31m   \u001b[0mhashed_titles_unsorted\u001b[0m \u001b[0;34m=\u001b[0m \u001b[0mlist\u001b[0m\u001b[0;34m(\u001b[0m\u001b[0mindexed_pages\u001b[0m\u001b[0;34m.\u001b[0m\u001b[0mkeys\u001b[0m\u001b[0;34m(\u001b[0m\u001b[0;34m)\u001b[0m\u001b[0;34m)\u001b[0m\u001b[0;34m\u001b[0m\u001b[0;34m\u001b[0m\u001b[0m\n\u001b[0m\u001b[1;32m      6\u001b[0m   \u001b[0mhashed_titles_sorted\u001b[0m \u001b[0;34m=\u001b[0m \u001b[0msorted\u001b[0m\u001b[0;34m(\u001b[0m\u001b[0mhashed_titles_unsorted\u001b[0m\u001b[0;34m,\u001b[0m \u001b[0mkey\u001b[0m\u001b[0;34m=\u001b[0m\u001b[0;32mlambda\u001b[0m \u001b[0mx\u001b[0m\u001b[0;34m:\u001b[0m \u001b[0mindexed_pages\u001b[0m\u001b[0;34m[\u001b[0m\u001b[0mx\u001b[0m\u001b[0;34m]\u001b[0m\u001b[0;34m[\u001b[0m\u001b[0;34m'count'\u001b[0m\u001b[0;34m]\u001b[0m\u001b[0;34m,\u001b[0m \u001b[0mreverse\u001b[0m\u001b[0;34m=\u001b[0m\u001b[0;32mTrue\u001b[0m\u001b[0;34m)\u001b[0m\u001b[0;34m\u001b[0m\u001b[0;34m\u001b[0m\u001b[0m\n\u001b[1;32m      7\u001b[0m   \u001b[0;32mreturn\u001b[0m \u001b[0mhashed_titles_sorted\u001b[0m\u001b[0;34m\u001b[0m\u001b[0;34m\u001b[0m\u001b[0m\n",
            "\u001b[0;31mAttributeError\u001b[0m: 'NoneType' object has no attribute 'keys'"
          ]
        }
      ]
    },
    {
      "cell_type": "markdown",
      "source": [
        "Add new Index Words"
      ],
      "metadata": {
        "id": "a-Gs0OSUhCAF"
      }
    },
    {
      "cell_type": "code",
      "source": [
        "# Example usage\n",
        "# @title Default title text\n",
        "new_index = \"hello\" # @param {type:\"string\"}\n",
        "\n",
        "def add_index_word(word):\n",
        "  data_to_upload = {\n",
        "    'NothingToSee': 'here'\n",
        "  }\n",
        "  result = fbConn.put_async('/index/' + word,\"0000000-base\",data=data_to_upload)\n",
        "\n",
        "queries = [\"tencent\",\"cloud\",\"games\",\"studio\",\"holdings\",\"business\",\"china\",\"nvidia\",\"graphics\",\"development\"]\n",
        "for word in queries:\n",
        "  add_index_word(word)"
      ],
      "metadata": {
        "id": "g-vJcRqKhE1T"
      },
      "execution_count": null,
      "outputs": []
    }
  ]
}